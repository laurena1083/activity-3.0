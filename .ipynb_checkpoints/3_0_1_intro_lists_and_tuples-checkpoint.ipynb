{
 "cells": [
  {
   "cell_type": "markdown",
   "metadata": {
    "slideshow": {
     "slide_type": "slide"
    }
   },
   "source": [
    "# Introduction to Lists and Tuples"
   ]
  },
  {
   "cell_type": "markdown",
   "metadata": {},
   "source": [
    "## Overview"
   ]
  },
  {
   "cell_type": "markdown",
   "metadata": {},
   "source": [
    "### Mutable vs. Immutable\n",
    "\n",
    "- A data structure is **mutable** if its content can be changed in place.\n",
    "- A data structure is **immutable** if its content cannot be changed.\n",
    "\n",
    "**Best practice.** Avoid mutation when possible, as it makes it harder to reason about your program."
   ]
  },
  {
   "cell_type": "markdown",
   "metadata": {
    "editable": true,
    "slideshow": {
     "slide_type": "slide"
    },
    "tags": []
   },
   "source": [
    "## What are lists and tuples?\n",
    "\n",
    "* a `list` is a *mutable* ordered sequence.\n",
    "* a `tuple` is am *immutable* ordered sequence.\n",
    "    * `list`: index $\\rightarrow$ value\n",
    "    * `dict`: key $\\rightarrow$ value\n",
    "* **Zero indexing.** List/tuple index start a `0` and increase by 1.\n",
    "* **Mixed type.**  A list or tuple can contain any combinations of types.\n",
    "\n",
    "**Best practice.** Make lists and tuples that contain one-and-only-one type."
   ]
  },
  {
   "cell_type": "markdown",
   "metadata": {
    "slideshow": {
     "slide_type": "slide"
    }
   },
   "source": [
    "## Inline representation\n",
    "\n",
    "* delimited by `[...]` [lists] and `(...)` [tuples]\n",
    "* Entries separated by commas"
   ]
  },
  {
   "cell_type": "code",
   "execution_count": 21,
   "metadata": {
    "collapsed": false,
    "jupyter": {
     "outputs_hidden": false
    },
    "slideshow": {
     "slide_type": "fragment"
    }
   },
   "outputs": [
    {
     "data": {
      "text/plain": [
       "['April', 'Brant', 'Chris', 'Jeff', 'Tisha', 'Todd', 'Silas']"
      ]
     },
     "execution_count": 21,
     "metadata": {},
     "output_type": "execute_result"
    }
   ],
   "source": [
    "prof_first = ['April', 'Brant', 'Chris', 'Jeff', 'Tisha', 'Todd', 'Silas']\n",
    "prof_first"
   ]
  },
  {
   "cell_type": "code",
   "execution_count": 22,
   "metadata": {},
   "outputs": [
    {
     "data": {
      "text/plain": [
       "list"
      ]
     },
     "execution_count": 22,
     "metadata": {},
     "output_type": "execute_result"
    }
   ],
   "source": [
    "type(prof_first)"
   ]
  },
  {
   "cell_type": "code",
   "execution_count": 23,
   "metadata": {},
   "outputs": [
    {
     "data": {
      "text/plain": [
       "('Kerby-Helm', 'Deppa', 'Malone', 'Johnson', 'Hooks', 'Iverson', 'Bergen')"
      ]
     },
     "execution_count": 23,
     "metadata": {},
     "output_type": "execute_result"
    }
   ],
   "source": [
    "prof_last = ('Kerby-Helm', 'Deppa', 'Malone', 'Johnson', 'Hooks', 'Iverson', 'Bergen')\n",
    "prof_last"
   ]
  },
  {
   "cell_type": "code",
   "execution_count": 24,
   "metadata": {},
   "outputs": [
    {
     "data": {
      "text/plain": [
       "tuple"
      ]
     },
     "execution_count": 24,
     "metadata": {},
     "output_type": "execute_result"
    }
   ],
   "source": [
    "type(prof_last)"
   ]
  },
  {
   "cell_type": "markdown",
   "metadata": {
    "slideshow": {
     "slide_type": "slide"
    }
   },
   "source": [
    "## Accessing values - Index Syntax"
   ]
  },
  {
   "cell_type": "code",
   "execution_count": 25,
   "metadata": {
    "collapsed": false,
    "jupyter": {
     "outputs_hidden": false
    },
    "slideshow": {
     "slide_type": "fragment"
    }
   },
   "outputs": [
    {
     "data": {
      "text/plain": [
       "'April'"
      ]
     },
     "execution_count": 25,
     "metadata": {},
     "output_type": "execute_result"
    }
   ],
   "source": [
    "prof_first[0] # positive index ==> count from the left"
   ]
  },
  {
   "cell_type": "code",
   "execution_count": 26,
   "metadata": {},
   "outputs": [
    {
     "data": {
      "text/plain": [
       "'Iverson'"
      ]
     },
     "execution_count": 26,
     "metadata": {},
     "output_type": "execute_result"
    }
   ],
   "source": [
    "prof_last[-2] # negative index ==> count from the right"
   ]
  },
  {
   "cell_type": "markdown",
   "metadata": {
    "slideshow": {
     "slide_type": "slide"
    }
   },
   "source": [
    "## Accessing values - `toolz.get`\n",
    "\n",
    "* Same function for lists and dictionaries\n",
    "* Can get multiple keys\n",
    "* Allows a default value"
   ]
  },
  {
   "cell_type": "code",
   "execution_count": 29,
   "metadata": {
    "collapsed": false,
    "jupyter": {
     "outputs_hidden": false
    },
    "slideshow": {
     "slide_type": "slide"
    }
   },
   "outputs": [
    {
     "name": "stdout",
     "output_type": "stream",
     "text": [
      "Collecting toolz\n",
      "  Downloading toolz-1.0.0-py3-none-any.whl.metadata (5.1 kB)\n",
      "Downloading toolz-1.0.0-py3-none-any.whl (56 kB)\n",
      "Installing collected packages: toolz\n",
      "Successfully installed toolz-1.0.0\n"
     ]
    },
    {
     "data": {
      "text/plain": [
       "'April'"
      ]
     },
     "execution_count": 29,
     "metadata": {},
     "output_type": "execute_result"
    }
   ],
   "source": [
    "!pip install toolz\n",
    "from toolz import get\n",
    "get(0, prof_first)"
   ]
  },
  {
   "cell_type": "code",
   "execution_count": 30,
   "metadata": {
    "collapsed": false,
    "jupyter": {
     "outputs_hidden": false
    },
    "slideshow": {
     "slide_type": "fragment"
    }
   },
   "outputs": [
    {
     "data": {
      "text/plain": [
       "('Malone', 'Bergen')"
      ]
     },
     "execution_count": 30,
     "metadata": {},
     "output_type": "execute_result"
    }
   ],
   "source": [
    "get([2, -1], prof_last)"
   ]
  },
  {
   "cell_type": "markdown",
   "metadata": {
    "slideshow": {
     "slide_type": "slide"
    }
   },
   "source": [
    "## empty dictionary, `len` and `in`\n",
    "\n",
    "* The empty `list` is `[]`\n",
    "* The empty `tuple` is `tuple([])` [Why not `()`?]\n",
    "* `len(d)` returns number of entries\n",
    "* `in` check for entry"
   ]
  },
  {
   "cell_type": "code",
   "execution_count": 31,
   "metadata": {
    "collapsed": false,
    "jupyter": {
     "outputs_hidden": false
    },
    "scrolled": true,
    "slideshow": {
     "slide_type": "slide"
    }
   },
   "outputs": [
    {
     "data": {
      "text/plain": [
       "0"
      ]
     },
     "execution_count": 31,
     "metadata": {},
     "output_type": "execute_result"
    }
   ],
   "source": [
    "len([])"
   ]
  },
  {
   "cell_type": "code",
   "execution_count": 32,
   "metadata": {},
   "outputs": [
    {
     "data": {
      "text/plain": [
       "0"
      ]
     },
     "execution_count": 32,
     "metadata": {},
     "output_type": "execute_result"
    }
   ],
   "source": [
    "len(tuple([]))"
   ]
  },
  {
   "cell_type": "code",
   "execution_count": 33,
   "metadata": {
    "collapsed": false,
    "jupyter": {
     "outputs_hidden": false
    },
    "scrolled": true,
    "slideshow": {
     "slide_type": "fragment"
    }
   },
   "outputs": [
    {
     "data": {
      "text/plain": [
       "7"
      ]
     },
     "execution_count": 33,
     "metadata": {},
     "output_type": "execute_result"
    }
   ],
   "source": [
    "len(prof_first)"
   ]
  },
  {
   "cell_type": "code",
   "execution_count": 34,
   "metadata": {
    "collapsed": false,
    "jupyter": {
     "outputs_hidden": false
    },
    "slideshow": {
     "slide_type": "fragment"
    }
   },
   "outputs": [
    {
     "data": {
      "text/plain": [
       "False"
      ]
     },
     "execution_count": 34,
     "metadata": {},
     "output_type": "execute_result"
    }
   ],
   "source": [
    "'todd' in prof_first"
   ]
  },
  {
   "cell_type": "code",
   "execution_count": 35,
   "metadata": {
    "collapsed": false,
    "jupyter": {
     "outputs_hidden": false
    },
    "slideshow": {
     "slide_type": "fragment"
    }
   },
   "outputs": [
    {
     "data": {
      "text/plain": [
       "True"
      ]
     },
     "execution_count": 35,
     "metadata": {},
     "output_type": "execute_result"
    }
   ],
   "source": [
    "'Iverson' in prof_last"
   ]
  },
  {
   "cell_type": "markdown",
   "metadata": {},
   "source": [
    "## Working with strings and list\n",
    "\n",
    "We frequently work with strings and lists by \n",
    "* splitting a string into a list, and\n",
    "* combining a list of strings into one string"
   ]
  },
  {
   "cell_type": "markdown",
   "metadata": {},
   "source": [
    "### Combining a list of string\n",
    "\n",
    "Use `\"sep\".join(seq)` to combine a list of strings into one string."
   ]
  },
  {
   "cell_type": "code",
   "execution_count": 36,
   "metadata": {},
   "outputs": [
    {
     "data": {
      "text/plain": [
       "'April, Brant, Chris, Jeff, Tisha, Todd, Silas'"
      ]
     },
     "execution_count": 36,
     "metadata": {},
     "output_type": "execute_result"
    }
   ],
   "source": [
    "all_first = ', '.join(prof_first)\n",
    "\n",
    "all_first"
   ]
  },
  {
   "cell_type": "markdown",
   "metadata": {},
   "source": [
    "### Splitting a string into a list\n",
    "\n",
    "* Use `s.split(\"sep\")` to split a string on each \"sep\"\n",
    "* Use `s.split()` on any whitespace."
   ]
  },
  {
   "cell_type": "code",
   "execution_count": 37,
   "metadata": {},
   "outputs": [
    {
     "data": {
      "text/plain": [
       "['April', 'Brant', 'Chris', 'Jeff', 'Tisha', 'Todd', 'Silas']"
      ]
     },
     "execution_count": 37,
     "metadata": {},
     "output_type": "execute_result"
    }
   ],
   "source": [
    "all_first.split(', ')"
   ]
  },
  {
   "cell_type": "markdown",
   "metadata": {},
   "source": [
    "## `list` comprehensions\n",
    "\n",
    "An expressive and fast way of iterating on any sequence.\n",
    "\n",
    "**Syntax.** \n",
    "1. **Without filter.** `[expr for var in seq]`\n",
    "2. **With filter.** `[expr for var in seq if bool_expr]`"
   ]
  },
  {
   "cell_type": "markdown",
   "metadata": {},
   "source": [
    "#### Example 1 - Lowercase first names."
   ]
  },
  {
   "cell_type": "code",
   "execution_count": 41,
   "metadata": {},
   "outputs": [
    {
     "data": {
      "text/plain": [
       "['april', 'brant', 'chris', 'jeff', 'tisha', 'todd', 'silas']"
      ]
     },
     "execution_count": 41,
     "metadata": {},
     "output_type": "execute_result"
    }
   ],
   "source": [
    "[name.lower() for name in prof_first]"
   ]
  },
  {
   "cell_type": "markdown",
   "metadata": {},
   "source": [
    "#### Example 2 - Last names starting with a vowel"
   ]
  },
  {
   "cell_type": "code",
   "execution_count": 42,
   "metadata": {},
   "outputs": [
    {
     "data": {
      "text/plain": [
       "['Iverson']"
      ]
     },
     "execution_count": 42,
     "metadata": {},
     "output_type": "execute_result"
    }
   ],
   "source": [
    "vowels = \"aeiou\"\n",
    "\n",
    "[name for name in prof_last if name.lower()[0] in vowels]"
   ]
  },
  {
   "cell_type": "markdown",
   "metadata": {},
   "source": [
    "## Other common actions on sequences"
   ]
  },
  {
   "cell_type": "markdown",
   "metadata": {},
   "source": [
    "### Combining two lists by position with `zip`"
   ]
  },
  {
   "cell_type": "code",
   "execution_count": 43,
   "metadata": {},
   "outputs": [
    {
     "data": {
      "text/plain": [
       "[('April', 'Kerby-Helm'),\n",
       " ('Brant', 'Deppa'),\n",
       " ('Chris', 'Malone'),\n",
       " ('Jeff', 'Johnson'),\n",
       " ('Tisha', 'Hooks'),\n",
       " ('Todd', 'Iverson'),\n",
       " ('Silas', 'Bergen')]"
      ]
     },
     "execution_count": 43,
     "metadata": {},
     "output_type": "execute_result"
    }
   ],
   "source": [
    "name_tuples = [(f, l) for f, l in zip(prof_first, prof_last)]\n",
    "\n",
    "name_tuples"
   ]
  },
  {
   "cell_type": "code",
   "execution_count": 44,
   "metadata": {},
   "outputs": [
    {
     "data": {
      "text/plain": [
       "['April Kerby-Helm',\n",
       " 'Brant Deppa',\n",
       " 'Chris Malone',\n",
       " 'Jeff Johnson',\n",
       " 'Tisha Hooks',\n",
       " 'Todd Iverson',\n",
       " 'Silas Bergen']"
      ]
     },
     "execution_count": 44,
     "metadata": {},
     "output_type": "execute_result"
    }
   ],
   "source": [
    "# Combine using the `join` method\n",
    "full_name = [\" \".join((f, l)) for f, l in zip(prof_first, prof_last)]\n",
    "\n",
    "full_name"
   ]
  },
  {
   "cell_type": "code",
   "execution_count": 45,
   "metadata": {},
   "outputs": [
    {
     "data": {
      "text/plain": [
       "['April Kerby-Helm',\n",
       " 'Brant Deppa',\n",
       " 'Chris Malone',\n",
       " 'Jeff Johnson',\n",
       " 'Tisha Hooks',\n",
       " 'Todd Iverson',\n",
       " 'Silas Bergen']"
      ]
     },
     "execution_count": 45,
     "metadata": {},
     "output_type": "execute_result"
    }
   ],
   "source": [
    "# Combine using an f-string\n",
    "full_name = [f\"{f} {l}\" for f, l in zip(prof_first, prof_last)]\n",
    "\n",
    "full_name"
   ]
  },
  {
   "cell_type": "markdown",
   "metadata": {},
   "source": [
    "### Enumerating a sequence\n",
    "\n",
    "When we need to know both the value and the location of each item, we can use `enumerate`"
   ]
  },
  {
   "cell_type": "code",
   "execution_count": 46,
   "metadata": {},
   "outputs": [
    {
     "data": {
      "text/plain": [
       "[(0, 'April Kerby-Helm'),\n",
       " (1, 'Brant Deppa'),\n",
       " (2, 'Chris Malone'),\n",
       " (3, 'Jeff Johnson'),\n",
       " (4, 'Tisha Hooks'),\n",
       " (5, 'Todd Iverson'),\n",
       " (6, 'Silas Bergen')]"
      ]
     },
     "execution_count": 46,
     "metadata": {},
     "output_type": "execute_result"
    }
   ],
   "source": [
    "enum_name = [(i, n) for i, n in enumerate(full_name)]\n",
    "enum_name"
   ]
  },
  {
   "cell_type": "code",
   "execution_count": 47,
   "metadata": {},
   "outputs": [
    {
     "data": {
      "text/plain": [
       "['Brant Deppa', 'Jeff Johnson', 'Todd Iverson']"
      ]
     },
     "execution_count": 47,
     "metadata": {},
     "output_type": "execute_result"
    }
   ],
   "source": [
    "odd_index_names = [n for i, n in enumerate(full_name) if i % 2 == 1]\n",
    "odd_index_names"
   ]
  },
  {
   "cell_type": "markdown",
   "metadata": {},
   "source": [
    "### Chaining two sequences together\n",
    "\n",
    "If we want to iterate through one sequence after the other, we can use `itertools.chain`"
   ]
  },
  {
   "cell_type": "code",
   "execution_count": null,
   "metadata": {},
   "outputs": [],
   "source": [
    "from itertools import chain\n",
    "\n",
    "[n for n in chain(prof_first, prof_last)]"
   ]
  },
  {
   "cell_type": "markdown",
   "metadata": {},
   "source": [
    "## <font color=\"red\"> Exercise 3.0.1 </font>\n",
    "\n",
    "**Task.** Use a `list` comprehension and `string.join` to \n",
    "1. Make the words in each of the following sentences alternate between UPPER and lower case, and\n",
    "2. Combine the two resulting quotes into one string."
   ]
  },
  {
   "cell_type": "code",
   "execution_count": 48,
   "metadata": {},
   "outputs": [],
   "source": [
    "seuss1 = \"Today you are you That is truer than true There is no one alive who is you-er than you\"\n",
    "seuss2 = \"You're in pretty good shape for the shape you are in\""
   ]
  },
  {
   "cell_type": "code",
   "execution_count": 49,
   "metadata": {},
   "outputs": [
    {
     "data": {
      "text/plain": [
       "\"TODAY you ARE you THAT is TRUER than TRUE there IS no ONE alive WHO is YOU-ER than YOU YOU'RE in PRETTY good SHAPE for THE shape YOU are IN\""
      ]
     },
     "execution_count": 49,
     "metadata": {},
     "output_type": "execute_result"
    }
   ],
   "source": [
    "# Your code here\n",
    "seuss1 = \"Today you are you That is truer than true There is no one alive who is you-er than you\"\n",
    "seuss2 = \"You're in pretty good shape for the shape you are in\"\n",
    "\n",
    "seuss_alternate_1 = \" \".join([word.upper() if i % 2 == 0 else word.lower() \n",
    "                 for i, word in enumerate(seuss1.split())])\n",
    "\n",
    "seuss_alternate_2 = \" \".join([word.upper() if i % 2 == 0 else word.lower() \n",
    "                 for i, word in enumerate(seuss2.split())])\n",
    "seuss_result = seuss_alternate_1 + \" \" + seuss_alternate_2\n",
    "seuss_resilt\n",
    "\n",
    "\n"
   ]
  },
  {
   "cell_type": "code",
   "execution_count": null,
   "metadata": {},
   "outputs": [],
   "source": []
  }
 ],
 "metadata": {
  "anaconda-cloud": {},
  "celltoolbar": "Slideshow",
  "kernelspec": {
   "display_name": "Python 3 (ipykernel)",
   "language": "python",
   "name": "python3"
  },
  "language_info": {
   "codemirror_mode": {
    "name": "ipython",
    "version": 3
   },
   "file_extension": ".py",
   "mimetype": "text/x-python",
   "name": "python",
   "nbconvert_exporter": "python",
   "pygments_lexer": "ipython3",
   "version": "3.12.11"
  }
 },
 "nbformat": 4,
 "nbformat_minor": 4
}
